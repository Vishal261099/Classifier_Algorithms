{
 "cells": [
  {
   "cell_type": "code",
   "execution_count": null,
   "id": "46db96a0",
   "metadata": {},
   "outputs": [],
   "source": [
    "import pandas as pd\n",
    "\n",
    "import numpy as np\n",
    "\n",
    "import seaborn as sns"
   ]
  },
  {
   "cell_type": "code",
   "execution_count": null,
   "id": "4222b4f8",
   "metadata": {},
   "outputs": [],
   "source": [
    "df=pd.read_csv('/Users/vishalb/Downloads/titanic.csv')"
   ]
  },
  {
   "cell_type": "code",
   "execution_count": null,
   "id": "ad8ad32a",
   "metadata": {},
   "outputs": [],
   "source": [
    "df"
   ]
  },
  {
   "cell_type": "code",
   "execution_count": null,
   "id": "6ccde9fc",
   "metadata": {},
   "outputs": [],
   "source": [
    "cols_to_drop=['Name', 'Ticket', 'Cabin']\n",
    "\n",
    "df.drop(cols_to_drop, axis=1)"
   ]
  },
  {
   "cell_type": "code",
   "execution_count": null,
   "id": "fde21b33",
   "metadata": {},
   "outputs": [],
   "source": [
    "sns.heatmap(df.isnull())"
   ]
  },
  {
   "cell_type": "code",
   "execution_count": null,
   "id": "8da0bdd6",
   "metadata": {},
   "outputs": [],
   "source": [
    "df=df.dropna()"
   ]
  },
  {
   "cell_type": "code",
   "execution_count": null,
   "id": "6a6fbf03",
   "metadata": {},
   "outputs": [],
   "source": [
    "df.info()"
   ]
  },
  {
   "cell_type": "markdown",
   "id": "8293b653",
   "metadata": {},
   "source": [
    "### Converting categorical columns to binary"
   ]
  },
  {
   "cell_type": "code",
   "execution_count": null,
   "id": "1e95fc65",
   "metadata": {},
   "outputs": [],
   "source": [
    "Embarkeddummy=pd.get_dummies(df['Embarked'])\n",
    "\n",
    "Sexcolumndummy=pd.get_dummies(df['Sex'])"
   ]
  },
  {
   "cell_type": "code",
   "execution_count": null,
   "id": "4d904d76",
   "metadata": {},
   "outputs": [],
   "source": [
    "df=pd.concat((df, Embarkeddummy, Sexcolumndummy), axis=1)\n",
    "\n",
    "df"
   ]
  },
  {
   "cell_type": "code",
   "execution_count": null,
   "id": "f052d8b5",
   "metadata": {},
   "outputs": [],
   "source": [
    "df=df.drop(['Name', 'Sex', 'Embarked'], axis=1)\n",
    "\n",
    "df=df.drop(['Cabin', 'Ticket'], axis=1)\n",
    "\n",
    "df"
   ]
  },
  {
   "cell_type": "code",
   "execution_count": null,
   "id": "9c63749d",
   "metadata": {},
   "outputs": [],
   "source": [
    "X=df.values"
   ]
  },
  {
   "cell_type": "code",
   "execution_count": null,
   "id": "e2d7e73a",
   "metadata": {},
   "outputs": [],
   "source": [
    "y=df['Survived'].values"
   ]
  },
  {
   "cell_type": "code",
   "execution_count": null,
   "id": "bcdd48f6",
   "metadata": {},
   "outputs": [],
   "source": [
    "X=np.delete(X, 1, axis=1)   #delete survived column from X"
   ]
  },
  {
   "cell_type": "code",
   "execution_count": null,
   "id": "1ca91fe0",
   "metadata": {},
   "outputs": [],
   "source": [
    "from sklearn.model_selection import train_test_split\n",
    "\n",
    "X_train, X_test, y_train, y_test=train_test_split(X, y, test_size=0.3, random_state=42)"
   ]
  },
  {
   "cell_type": "markdown",
   "id": "e6e99d17",
   "metadata": {},
   "source": [
    "### Building Decision Tree"
   ]
  },
  {
   "cell_type": "code",
   "execution_count": null,
   "id": "bcf865b7",
   "metadata": {},
   "outputs": [],
   "source": [
    "from sklearn import tree\n",
    "\n",
    "clf_dt=tree.DecisionTreeClassifier(max_depth=5)\n",
    "\n",
    "clf_dt.fit(X_train, y_train)\n",
    "\n",
    "clf_dt.score(X_test, y_test)\n",
    "\n",
    "y_pred=clf_dt.predict(X_test)\n",
    "\n",
    "clf_dt.score(X_test, y_test)"
   ]
  },
  {
   "cell_type": "code",
   "execution_count": null,
   "id": "7900c593",
   "metadata": {},
   "outputs": [],
   "source": [
    "from sklearn.metrics import confusion_matrix\n",
    "\n",
    "confusion_matrix(y_test, y_pred)"
   ]
  },
  {
   "cell_type": "markdown",
   "id": "f58086c6",
   "metadata": {},
   "source": [
    "### Building a Random Forest Classifier"
   ]
  },
  {
   "cell_type": "code",
   "execution_count": null,
   "id": "43acf7c1",
   "metadata": {},
   "outputs": [],
   "source": [
    "from sklearn import ensemble\n",
    "\n",
    "import matplotlib.pyplot as plt\n",
    "\n",
    "clf_rf=ensemble.RandomForestClassifier(n_estimators=100)\n",
    "\n",
    "clf_rf.fit(X_train, y_train)\n",
    "\n",
    "clf_rf.score(X_test, y_test)\n",
    "\n",
    "importances=clf_rf.feature_importances_\n",
    "\n",
    "indices=np.argsort(importances)[::-1]\n",
    "\n",
    "plt.figure()\n",
    "\n",
    "plt.title(\"Feature Importance\")\n",
    "\n",
    "plt.bar(range(X.shape[1]), importances[indices])\n",
    "\n",
    "plt.show()"
   ]
  },
  {
   "cell_type": "markdown",
   "id": "6cb39948",
   "metadata": {},
   "source": [
    "### Building a Gradient Boosting Classifier"
   ]
  },
  {
   "cell_type": "code",
   "execution_count": null,
   "id": "8c32d997",
   "metadata": {},
   "outputs": [],
   "source": [
    "clf_gb=ensemble.GradientBoostingClassifier()\n",
    "\n",
    "clf_gb.fit(X_train, y_train)\n",
    "\n",
    "clf_gb.score(X_test, y_test)"
   ]
  },
  {
   "cell_type": "markdown",
   "id": "ca33d440",
   "metadata": {},
   "source": [
    "### Tuning the Gradient Boosting Classifier"
   ]
  },
  {
   "cell_type": "code",
   "execution_count": null,
   "id": "f8e7961d",
   "metadata": {},
   "outputs": [],
   "source": [
    "clf_gb=ensemble.GradientBoostingClassifier(n_estimators=30)\n",
    "\n",
    "clf_gb.fit(X_train, y_train)\n",
    "\n",
    "clf_gb.score(X_test, y_test)"
   ]
  },
  {
   "cell_type": "markdown",
   "id": "e5a1e9ac",
   "metadata": {},
   "source": [
    "### Building a Naive Bayes Classifier"
   ]
  },
  {
   "cell_type": "code",
   "execution_count": null,
   "id": "38ed0687",
   "metadata": {},
   "outputs": [],
   "source": [
    "from sklearn.naive_bayes import GaussianNB\n",
    "\n",
    "clf_nb=GaussianNB()\n",
    "\n",
    "clf_nb.fit(X_train, y_train)\n",
    "\n",
    "clf_nb.score(X_test, y_test)"
   ]
  },
  {
   "cell_type": "code",
   "execution_count": null,
   "id": "b91011be",
   "metadata": {},
   "outputs": [],
   "source": [
    "from sklearn.neighbors import KNeighborsClassifier\n",
    "\n",
    "knn=KNeighborsClassifier(n_neighbors=10)\n",
    "\n",
    "knn.fit(X_train, y_train)\n",
    "\n",
    "knn.score(X_test, y_test)"
   ]
  },
  {
   "cell_type": "markdown",
   "id": "67efb740",
   "metadata": {},
   "source": [
    "### Building a Logistic Regression Classifier"
   ]
  },
  {
   "cell_type": "code",
   "execution_count": null,
   "id": "acd863e2",
   "metadata": {},
   "outputs": [],
   "source": [
    "from sklearn.linear_model import LogisticRegression\n",
    "\n",
    "clf_lr=LogisticRegression()\n",
    "\n",
    "clf_lr.fit(X_train, y_train)\n",
    "\n",
    "clf_lr.score(X_test, y_test)"
   ]
  },
  {
   "cell_type": "markdown",
   "id": "10e8de85",
   "metadata": {},
   "source": [
    "### Building SVM Classifier"
   ]
  },
  {
   "cell_type": "code",
   "execution_count": null,
   "id": "88bcdc51",
   "metadata": {},
   "outputs": [],
   "source": [
    "from sklearn.svm import SVC\n",
    "\n",
    "clf_svm=SVC(probability=True, kernel='linear')\n",
    "\n",
    "clf_svm.fit(X_train, y_train)\n",
    "\n",
    "clf_svm.score(X_test, y_test)"
   ]
  }
 ],
 "metadata": {
  "kernelspec": {
   "display_name": "Python 3 (ipykernel)",
   "language": "python",
   "name": "python3"
  },
  "language_info": {
   "codemirror_mode": {
    "name": "ipython",
    "version": 3
   },
   "file_extension": ".py",
   "mimetype": "text/x-python",
   "name": "python",
   "nbconvert_exporter": "python",
   "pygments_lexer": "ipython3",
   "version": "3.9.7"
  }
 },
 "nbformat": 4,
 "nbformat_minor": 5
}
